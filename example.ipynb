{
 "cells": [
  {
   "cell_type": "code",
   "execution_count": 15,
   "id": "1e235e1c",
   "metadata": {},
   "outputs": [
    {
     "name": "stdout",
     "output_type": "stream",
     "text": [
      "The autoreload extension is already loaded. To reload it, use:\n",
      "  %reload_ext autoreload\n"
     ]
    }
   ],
   "source": [
    "%load_ext autoreload\n",
    "%autoreload 2\n",
    "# these two lines are very important. Without them, changes to the imported modules\n",
    "# won't be automatically updated here."
   ]
  },
  {
   "cell_type": "code",
   "execution_count": 16,
   "id": "f7fc9666",
   "metadata": {},
   "outputs": [],
   "source": [
    "%reload_ext autoreload"
   ]
  },
  {
   "cell_type": "code",
   "execution_count": 17,
   "id": "40123396",
   "metadata": {},
   "outputs": [],
   "source": [
    "import itertools\n",
    "import more_itertools as mit\n",
    "import numpy as np\n",
    "import pandas as pd\n",
    "import random,re"
   ]
  },
  {
   "cell_type": "code",
   "execution_count": 18,
   "id": "ff14586f",
   "metadata": {},
   "outputs": [],
   "source": [
    "from itertools import combinations"
   ]
  },
  {
   "cell_type": "code",
   "execution_count": 19,
   "id": "cca7264e",
   "metadata": {},
   "outputs": [],
   "source": [
    "from regexfinder import *"
   ]
  },
  {
   "cell_type": "code",
   "execution_count": 20,
   "id": "8252b39b",
   "metadata": {},
   "outputs": [],
   "source": [
    "#regex = 'q([abcdefg]{2}[as]|\\d{2})[ab]{2}([cd]{2}|[rs]{2}[vw])'#'{2})[xyz])x[@#$]\\dx([abc]{3}|\\w{2}\\d{2}\\w{3})z'\n",
    "#regex = '\\d{2}([ab]{2}[cd]{2}|[rs]{2}[vw]{2})[xyz]'#'[@#$]\\dx([abc]{3}|\\w{2}\\d{2}\\w{3})z'\n",
    "regex = '\\d{2}([a-m]{2}[n-z]{2}|[A-Z]{4})\\d'#'[vw]{2})[xyz][@#$]\\dx([abc]{3}|\\w{2}\\d{2}\\w{3})z'\n",
    "#regex = '[ab\\d]\\w'\n",
    "#regex = '[a12\\w]{5}@\\w{5}.(com|org|edu)'\n",
    "\n",
    "# We create a GRAPH object with the regex and then simplify it to NODES, which we then visualize as a graph\n",
    "# A NODE is a class in the module\n",
    "\n",
    "G = GRAPH(regex=regex)\n",
    "G.simplify()\n",
    "\n",
    "G.createVisual()\n"
   ]
  },
  {
   "cell_type": "code",
   "execution_count": 10,
   "id": "95a4758c",
   "metadata": {},
   "outputs": [
    {
     "data": {
      "text/plain": [
       "{'23': <regexfinder.NODE at 0x7feac0fee250>,\n",
       " '25': <regexfinder.NODE at 0x7feac0feae10>,\n",
       " '27': <regexfinder.NODE at 0x7feac0feabd0>,\n",
       " '28': <regexfinder.NODE at 0x7feac0feaad0>,\n",
       " '29': <regexfinder.NODE at 0x7feac0fdb290>}"
      ]
     },
     "execution_count": 10,
     "metadata": {},
     "output_type": "execute_result"
    }
   ],
   "source": [
    "G.nodes"
   ]
  },
  {
   "cell_type": "code",
   "execution_count": 24,
   "id": "70da22d4",
   "metadata": {},
   "outputs": [],
   "source": [
    "# An example NODE with properties below\n",
    "n = NODE('[a-gqx]')"
   ]
  },
  {
   "cell_type": "code",
   "execution_count": 25,
   "id": "54a9418f",
   "metadata": {},
   "outputs": [
    {
     "data": {
      "text/plain": [
       "'[a-gqx]'"
      ]
     },
     "execution_count": 25,
     "metadata": {},
     "output_type": "execute_result"
    }
   ],
   "source": [
    "n.regex"
   ]
  },
  {
   "cell_type": "code",
   "execution_count": 26,
   "id": "b8025609",
   "metadata": {},
   "outputs": [
    {
     "data": {
      "text/plain": [
       "9"
      ]
     },
     "execution_count": 26,
     "metadata": {},
     "output_type": "execute_result"
    }
   ],
   "source": [
    "n.cardinality"
   ]
  },
  {
   "cell_type": "code",
   "execution_count": 28,
   "id": "87123658",
   "metadata": {},
   "outputs": [
    {
     "data": {
      "text/plain": [
       "True"
      ]
     },
     "execution_count": 28,
     "metadata": {},
     "output_type": "execute_result"
    }
   ],
   "source": [
    "n.simple"
   ]
  },
  {
   "cell_type": "code",
   "execution_count": 31,
   "id": "8bd83a87",
   "metadata": {},
   "outputs": [
    {
     "data": {
      "text/plain": [
       "array([0, 0, 0, 0, 0, 0, 0, 0, 0, 0, 0, 0, 0, 0, 0, 0, 0, 0, 0, 0, 0, 0,\n",
       "       0, 0, 0, 0, 0, 0, 0, 0, 0, 0, 0, 0, 0, 0, 0, 0, 0, 0, 0, 0, 0, 0,\n",
       "       0, 0, 0, 0, 0, 0, 0, 0, 0, 0, 0, 0, 0, 0, 0, 0, 0, 0, 0, 0, 0, 0,\n",
       "       0, 0, 0, 0, 0, 0, 0, 0, 0, 0, 0, 0, 0, 0, 0, 0, 0, 0, 0, 0, 0, 0,\n",
       "       0, 0, 0, 0, 0, 0, 0, 0, 0, 1, 1, 1, 1, 1, 1, 1, 0, 0, 0, 0, 0, 0,\n",
       "       0, 0, 0, 1, 0, 0, 0, 0, 0, 0, 1, 0, 0, 0, 0, 0, 0, 0])"
      ]
     },
     "execution_count": 31,
     "metadata": {},
     "output_type": "execute_result"
    }
   ],
   "source": [
    "n.vector.v"
   ]
  },
  {
   "cell_type": "code",
   "execution_count": null,
   "id": "73d65d5e",
   "metadata": {},
   "outputs": [],
   "source": []
  }
 ],
 "metadata": {
  "kernelspec": {
   "display_name": "Python [conda env:regexfinder]",
   "language": "python",
   "name": "conda-env-regexfinder-py"
  },
  "language_info": {
   "codemirror_mode": {
    "name": "ipython",
    "version": 3
   },
   "file_extension": ".py",
   "mimetype": "text/x-python",
   "name": "python",
   "nbconvert_exporter": "python",
   "pygments_lexer": "ipython3",
   "version": "3.7.13"
  }
 },
 "nbformat": 4,
 "nbformat_minor": 5
}
