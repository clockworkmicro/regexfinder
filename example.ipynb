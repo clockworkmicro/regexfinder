{
 "cells": [
  {
   "cell_type": "code",
   "execution_count": 1,
   "id": "1e235e1c",
   "metadata": {},
   "outputs": [],
   "source": [
    "%load_ext autoreload\n",
    "%autoreload 2\n",
    "# these two lines are very important. Without them, changes to the imported modules\n",
    "# won't be automatically updated here."
   ]
  },
  {
   "cell_type": "code",
   "execution_count": 2,
   "id": "f7fc9666",
   "metadata": {},
   "outputs": [],
   "source": [
    "%reload_ext autoreload"
   ]
  },
  {
   "cell_type": "code",
   "execution_count": 3,
   "id": "cca7264e",
   "metadata": {},
   "outputs": [],
   "source": [
    "from regexfinder import *\n",
    "from utils import *"
   ]
  },
  {
   "cell_type": "markdown",
   "id": "07c38021",
   "metadata": {},
   "source": [
    "# Next steps:\n",
    "- regex = 'a(b(c|d)|e)f' # After reducePhi, 'aef' will no longer satisfy the regex\n"
   ]
  },
  {
   "cell_type": "markdown",
   "metadata": {},
   "source": [
    "Walkthrough:\n",
    "# First, create a graph from a given regex. There are many to choose from, listed below"
   ]
  },
  {
   "cell_type": "code",
   "execution_count": 4,
   "id": "bebf6cc5",
   "metadata": {},
   "outputs": [
    {
     "name": "stdout",
     "output_type": "stream",
     "text": [
      "6\n",
      "20.585\n"
     ]
    }
   ],
   "source": [
    "\n",
    " # For the following graph notice that there are two '\\d{2}', so if you want to merge one of them you should specify by edge\n",
    "# regex = 'q([abcdefg]{2}[as]|\\d{2})[ab]{2}([cd]{2}|[rs]{2}[vw])#{2}[xyz]x[@#$]\\dx([abc]{3}|\\w{2}\\d{2}\\w{3})z'\n",
    "# regex = '\\d{2}([ab]{2}[cd]{2}|[rs]{2}[vw]{2})[xyz]#[@#$]\\dx([abc]{3}|\\w{2}\\d{2}\\w{3})z'\n",
    "# regex = '\\d{2}([a-m]{2}[n-z]{2}|[A-Z]{4})\\d#[vw]{2}[xyz][@#$]\\dx([abc]{3}|\\w{2}\\d{2}\\w{3})z'\n",
    "# regex = 'a((b(c|d))|(e(f|g)))'\n",
    "# regex='c(e{4}f{5}|d|g)h{2}i'\n",
    "# regex = 'a|b'\n",
    "# regex = '\\d{3}'\n",
    "# regex = '[a12\\w]{5}@\\w{5}.(com|org|edu)'\n",
    "# regex = '\\d(a(c|d{2}|e{3})|(r{2}|\\d)v)[yz]'\n",
    "# regex = '\\\\d(a(d{2}|c|e{3})|(r{2}|\\\\d)v)[yz]'\n",
    "# regex = 'a(b(c(d|e{4}f{5}|g)h{2}i|j)k)(lm|n)'\n",
    "# regex = 'a(b?|cd)e'\n",
    "# regex = 'a(b(c|d)e|f(g|h)i)j'\n",
    "# regex = 'a(b(c|d)e|(f(g|h)i))j' # Double diamond\n",
    "# regex='\\d(a(c|d{2}|e{3})|(r{2}|\\d)v)[yz]'\n",
    "# regex = 'a(b(c|d)|e)f' # After reducePhi, 'aef' will no longer satisfy the regex\n",
    "# regex = '((a(b|c))|(d(e|f)))g' # <3 graph\n",
    "# regex = 'a(b|c(d|e)f)g'\n",
    "# regex = 'a[b-f]g'\n",
    "# regex = '(a|b|c)(d|e|f)'\n",
    "# regex = '(((a|b)c)|d(e|f))g'\n",
    "# regex = '(((a|b)d)|c(e|f))g' \n",
    "regex = '(((a|b)d)|c(e|f|g|h))i'\n",
    "# regex = 'a+'\n",
    "# regex = 'a{2}'\n",
    "# regex = 'a(b|c)def'\n",
    "# regex = 'a(b((c(d|e))|(f(g|h)))|i((j(k|l))|(m(n|o))))' # Binary Tree\n",
    "# regex = '(((((a|b)c)|((d|e)f))g)|(((h|i)j)|((k|l)m))n)o' # Reverse binary tree\n",
    "# regex = 'z(a|b|c)d(e|f|g)'\n",
    "# regex = 'a(b|cdef)h'\n",
    "# regex = '(abcdefghijklmnopqrstuvwxyz)'\n",
    "# regex = '((j|((d|g|ef)hi))k)'\n",
    "# regex = '([ab][ab])|(c[abd])|([abc]d)'\n",
    "# regex = 'abc'\n",
    "# regex = 'a(b|c)d'\n",
    "# regex = '\\d{2}([a-m]{2}[n-z]{2}|[A-Z]{4})\\d'\n",
    "\n",
    "G = GRAPH(regex=regex)\n",
    "G.partition()\n",
    "\n",
    "# Comment if visual is not needed\n",
    "G.createVisual(labels=False)\n",
    "print(G.cardinality) # How many strings satisfy the regex\n",
    "print(G.phi) # Its rating of how short and concice the regex is, relative to regexes that are similar to it/match the same strings"
   ]
  },
  {
   "cell_type": "markdown",
   "id": "263c4f59",
   "metadata": {},
   "source": [
    "## Let's see if the phi reduces from that chosen regex:"
   ]
  },
  {
   "cell_type": "code",
   "execution_count": 5,
   "id": "370db636",
   "metadata": {},
   "outputs": [
    {
     "name": "stdout",
     "output_type": "stream",
     "text": [
      "Nodes 9 VSG 17\n",
      "Nodes 3 VSG 3\n",
      "14.9069 Done.\n",
      "[a-c][d-h]i\n",
      "14.9069\n"
     ]
    }
   ],
   "source": [
    "G.reducePhi() # (Try to) reduce the overall phi of the regex\n",
    "print(G.phi, 'Done.')\n",
    "print(G.outRegex)\n",
    "print(G.phi)\n",
    "\n"
   ]
  },
  {
   "cell_type": "markdown",
   "id": "06346f90",
   "metadata": {},
   "source": [
    "if you'd like to visualize the reduced regex:"
   ]
  },
  {
   "cell_type": "code",
   "execution_count": 6,
   "id": "632a5280",
   "metadata": {},
   "outputs": [],
   "source": [
    "G.createVisual()"
   ]
  },
  {
   "cell_type": "markdown",
   "id": "d1dbc39b",
   "metadata": {},
   "source": [
    "# We can also build regexes/graphs using nodes and edges as building blocks"
   ]
  },
  {
   "cell_type": "code",
   "execution_count": 7,
   "id": "f2759443",
   "metadata": {},
   "outputs": [],
   "source": [
    "n1 = NODE('a')\n",
    "n2 = NODE('b')\n",
    "n3 = NODE('c')\n",
    "n4 = NODE('[d-f]')\n",
    "n5 = NODE('g')\n",
    "n6 = NODE('h')\n",
    "n7 = NODE('i')\n",
    "\n",
    "e14 = EDGE(n1.id_, n4.id_)\n",
    "e24 = EDGE(n2.id_, n4.id_)\n",
    "e35 = EDGE(n3.id_, n5.id_)\n",
    "e37 = EDGE(n3.id_, n7.id_)\n",
    "e46 = EDGE(n4.id_, n6.id_)\n",
    "e56 = EDGE(n5.id_, n6.id_)\n",
    "e76 = EDGE(n7.id_, n6.id_)\n",
    "\n",
    "edgeList = [e14, e24, e35, e37, e46, e56, e76]\n",
    "nodeDict = dict([(n.id_, n) for n in [n1, n2, n3, n4, n5, n6, n7]])\n",
    "G = GRAPH(nodes=nodeDict, edges=edgeList)\n",
    "G.partition()\n",
    "\n",
    "G.createVisual(labels=True)\n"
   ]
  },
  {
   "cell_type": "markdown",
   "id": "feb2fe92",
   "metadata": {},
   "source": [
    "## We can test merges and phiReduction normally:"
   ]
  },
  {
   "cell_type": "code",
   "execution_count": 8,
   "id": "6083aec4",
   "metadata": {},
   "outputs": [
    {
     "name": "stdout",
     "output_type": "stream",
     "text": [
      "Nodes ['53', '54'] cannot be merged due to N-graph creation\n"
     ]
    }
   ],
   "source": [
    "G.mergeNodeIds([n4.id_, n5.id_])\n"
   ]
  },
  {
   "cell_type": "code",
   "execution_count": 9,
   "id": "e947a497",
   "metadata": {},
   "outputs": [],
   "source": [
    "G.mergeNodeIds([n5.id_, n7.id_])\n",
    "G.createVisual()"
   ]
  },
  {
   "cell_type": "code",
   "execution_count": null,
   "metadata": {},
   "outputs": [],
   "source": []
  }
 ],
 "metadata": {
  "kernelspec": {
   "display_name": "Python 3 (ipykernel)",
   "language": "python",
   "name": "python3"
  },
  "language_info": {
   "codemirror_mode": {
    "name": "ipython",
    "version": 3
   },
   "file_extension": ".py",
   "mimetype": "text/x-python",
   "name": "python",
   "nbconvert_exporter": "python",
   "pygments_lexer": "ipython3",
   "version": "3.10.4"
  },
  "vscode": {
   "interpreter": {
    "hash": "26c5592925e2c5b411a3cc46924e9998e580f04b048084bfd128e4c36bd199e6"
   }
  }
 },
 "nbformat": 4,
 "nbformat_minor": 5
}
