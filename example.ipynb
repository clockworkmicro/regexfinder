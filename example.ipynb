{
 "cells": [
  {
   "cell_type": "code",
   "execution_count": 1,
   "id": "1e235e1c",
   "metadata": {},
   "outputs": [],
   "source": [
    "%load_ext autoreload\n",
    "%autoreload 2\n",
    "# these two lines are very important. Without them, changes to the imported modules\n",
    "# won't be automatically updated here."
   ]
  },
  {
   "cell_type": "code",
   "execution_count": 2,
   "id": "f7fc9666",
   "metadata": {},
   "outputs": [],
   "source": [
    "%reload_ext autoreload"
   ]
  },
  {
   "cell_type": "code",
   "execution_count": 3,
   "id": "40123396",
   "metadata": {},
   "outputs": [],
   "source": [
    "import itertools\n",
    "import more_itertools as mit\n",
    "import numpy as np\n",
    "import pandas as pd\n",
    "import random,re\n"
   ]
  },
  {
   "cell_type": "code",
   "execution_count": 4,
   "id": "ff14586f",
   "metadata": {},
   "outputs": [],
   "source": [
    "from itertools import combinations"
   ]
  },
  {
   "cell_type": "code",
   "execution_count": 5,
   "id": "cca7264e",
   "metadata": {},
   "outputs": [],
   "source": [
    "from regexfinder import *"
   ]
  },
  {
   "cell_type": "code",
   "execution_count": 85,
   "id": "8252b39b",
   "metadata": {},
   "outputs": [],
   "source": [
    "#regex = 'q([abcdefg]{2}[as]|\\d{2})[ab]{2}([cd]{2}|[rs]{2}[vw])'#'{2})[xyz])x[@#$]\\dx([abc]{3}|\\w{2}\\d{2}\\w{3})z'\n",
    "#regex = '\\d{2}([ab]{2}[cd]{2}|[rs]{2}[vw]{2})[xyz]'#'[@#$]\\dx([abc]{3}|\\w{2}\\d{2}\\w{3})z'\n",
    "#regex = '\\d{2}([a-m]{2}[n-z]{2}|[A-Z]{4})\\d'#'[vw]{2})[xyz][@#$]\\dx([abc]{3}|\\w{2}\\d{2}\\w{3})z'\n",
    "regex = '\\w'\n",
    "#regex = '[a12\\w]{5}@\\w{5}.(com|org|edu)'\n",
    "\n",
    "# We create a GRAPH object with the regex and then simplify it to NODES, which we then visualize as a graph\n",
    "# A NODE is a class in the module\n",
    "\n",
    "G = GRAPH(regex=regex)\n",
    "G.simplify()\n",
    "\n",
    "#G.createVisual()\n"
   ]
  },
  {
   "cell_type": "code",
   "execution_count": 86,
   "id": "95a4758c",
   "metadata": {},
   "outputs": [
    {
     "data": {
      "text/plain": [
       "{'87': <regexfinder.NODE at 0x7fdee138a110>}"
      ]
     },
     "execution_count": 86,
     "metadata": {},
     "output_type": "execute_result"
    }
   ],
   "source": [
    "G.nodes"
   ]
  },
  {
   "cell_type": "code",
   "execution_count": 87,
   "id": "28ab76d5",
   "metadata": {},
   "outputs": [
    {
     "data": {
      "text/plain": [
       "'\\\\w'"
      ]
     },
     "execution_count": 87,
     "metadata": {},
     "output_type": "execute_result"
    }
   ],
   "source": [
    "G.nodes['87'].regex"
   ]
  },
  {
   "cell_type": "code",
   "execution_count": 88,
   "id": "08d3dfed",
   "metadata": {},
   "outputs": [
    {
     "name": "stdout",
     "output_type": "stream",
     "text": [
      "[[0 0 0 0 0 0 0 0 0 0 0 0 0 0 0 0 0 0 0 0 0 0 0 0 0 0 0 0 0 0 0 0 0 0 0 0\n",
      "  0 0 0 0 0 0 0 0 0 0 0 0 1 1 1 1 1 1 1 1 1 1 0 0 0 0 0 0 0 1 1 1 1 1 1 1\n",
      "  1 1 1 1 1 1 1 1 1 1 1 1 1 1 1 1 1 1 1 0 0 0 0 1 0 1 1 1 1 1 1 1 1 1 1 1\n",
      "  1 1 1 1 1 1 1 1 1 1 1 1 1 1 1 0 0 0 0 0]]\n"
     ]
    }
   ],
   "source": [
    "n = G.mergeNodes(G.nodes.keys())"
   ]
  },
  {
   "cell_type": "code",
   "execution_count": 89,
   "id": "3c69a2fe",
   "metadata": {},
   "outputs": [
    {
     "data": {
      "text/plain": [
       "'[\\\\dA-Z_a-z]'"
      ]
     },
     "execution_count": 89,
     "metadata": {},
     "output_type": "execute_result"
    }
   ],
   "source": [
    "n.regex"
   ]
  },
  {
   "cell_type": "code",
   "execution_count": 90,
   "id": "dd70dcdb",
   "metadata": {},
   "outputs": [
    {
     "data": {
      "text/plain": [
       "array([0, 0, 0, 0, 0, 0, 0, 0, 0, 0, 0, 0, 0, 0, 0, 0, 0, 0, 0, 0, 0, 0,\n",
       "       0, 0, 0, 0, 0, 0, 0, 0, 0, 0, 0, 0, 0, 0, 0, 0, 0, 0, 0, 0, 0, 0,\n",
       "       0, 0, 0, 0, 1, 1, 1, 1, 1, 1, 1, 1, 1, 1, 0, 0, 0, 0, 0, 0, 0, 1,\n",
       "       1, 1, 1, 1, 1, 1, 1, 1, 1, 1, 1, 1, 1, 1, 1, 1, 1, 1, 1, 1, 1, 1,\n",
       "       1, 1, 1, 0, 0, 0, 0, 1, 0, 1, 1, 1, 1, 1, 1, 1, 1, 1, 1, 1, 1, 1,\n",
       "       1, 1, 1, 1, 1, 1, 1, 1, 1, 1, 1, 1, 1, 0, 0, 0, 0, 0])"
      ]
     },
     "execution_count": 90,
     "metadata": {},
     "output_type": "execute_result"
    }
   ],
   "source": [
    "n.vector.v"
   ]
  },
  {
   "cell_type": "code",
   "execution_count": 91,
   "id": "d61036dc",
   "metadata": {},
   "outputs": [],
   "source": [
    "regex = '\\w'\n",
    "G = GRAPH(regex=regex)"
   ]
  },
  {
   "cell_type": "code",
   "execution_count": 101,
   "id": "0bd16b1a",
   "metadata": {},
   "outputs": [],
   "source": [
    "n1 = next(iter(G.nodes.values()))"
   ]
  },
  {
   "cell_type": "code",
   "execution_count": 105,
   "id": "583c3082",
   "metadata": {},
   "outputs": [],
   "source": [
    "n1 = NODE(regex='\\w')\n",
    "n2 = NODE(vector=VECTOR(n1.vector.v))\n",
    "n1.regex"
   ]
  },
  {
   "cell_type": "code",
   "execution_count": 106,
   "id": "7f769a25",
   "metadata": {},
   "outputs": [],
   "source": []
  },
  {
   "cell_type": "code",
   "execution_count": 107,
   "id": "73d65d5e",
   "metadata": {},
   "outputs": [
    {
     "data": {
      "text/plain": [
       "'\\\\w'"
      ]
     },
     "execution_count": 107,
     "metadata": {},
     "output_type": "execute_result"
    }
   ],
   "source": [
    "n1.regex"
   ]
  },
  {
   "cell_type": "code",
   "execution_count": 108,
   "id": "2c7d7bad",
   "metadata": {},
   "outputs": [
    {
     "data": {
      "text/plain": [
       "'[\\\\dA-Z_a-z]'"
      ]
     },
     "execution_count": 108,
     "metadata": {},
     "output_type": "execute_result"
    }
   ],
   "source": [
    "n2.regex"
   ]
  },
  {
   "cell_type": "code",
   "execution_count": null,
   "id": "267e8d84",
   "metadata": {},
   "outputs": [],
   "source": []
  }
 ],
 "metadata": {
  "kernelspec": {
   "display_name": "Python [conda env:regexfinder]",
   "language": "python",
   "name": "conda-env-regexfinder-py"
  },
  "language_info": {
   "codemirror_mode": {
    "name": "ipython",
    "version": 3
   },
   "file_extension": ".py",
   "mimetype": "text/x-python",
   "name": "python",
   "nbconvert_exporter": "python",
   "pygments_lexer": "ipython3",
   "version": "3.10.4"
  }
 },
 "nbformat": 4,
 "nbformat_minor": 5
}
