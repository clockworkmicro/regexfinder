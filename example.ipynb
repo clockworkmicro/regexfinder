{
 "cells": [
  {
   "cell_type": "code",
   "execution_count": 1,
   "id": "1e235e1c",
   "metadata": {},
   "outputs": [],
   "source": [
    "%load_ext autoreload\n",
    "%autoreload 2\n",
    "# these two lines are very important. Without them, changes to the imported modules\n",
    "# won't be automatically updated here."
   ]
  },
  {
   "cell_type": "code",
   "execution_count": 2,
   "id": "f7fc9666",
   "metadata": {},
   "outputs": [],
   "source": [
    "%reload_ext autoreload"
   ]
  },
  {
   "cell_type": "code",
   "execution_count": 3,
   "id": "cca7264e",
   "metadata": {},
   "outputs": [
    {
     "ename": "ModuleNotFoundError",
     "evalue": "No module named 'graphviz'",
     "output_type": "error",
     "traceback": [
      "\u001b[0;31m---------------------------------------------------------------------------\u001b[0m",
      "\u001b[0;31mModuleNotFoundError\u001b[0m                       Traceback (most recent call last)",
      "\u001b[0;32m/var/folders/dd/q04zfhbj14s3q94g0446tb6r0000gn/T/ipykernel_71073/1827688851.py\u001b[0m in \u001b[0;36m<module>\u001b[0;34m\u001b[0m\n\u001b[0;32m----> 1\u001b[0;31m \u001b[0;32mfrom\u001b[0m \u001b[0mregexfinder\u001b[0m \u001b[0;32mimport\u001b[0m \u001b[0;34m*\u001b[0m\u001b[0;34m\u001b[0m\u001b[0;34m\u001b[0m\u001b[0m\n\u001b[0m\u001b[1;32m      2\u001b[0m \u001b[0;32mfrom\u001b[0m \u001b[0mutils\u001b[0m \u001b[0;32mimport\u001b[0m \u001b[0;34m*\u001b[0m\u001b[0;34m\u001b[0m\u001b[0;34m\u001b[0m\u001b[0m\n",
      "\u001b[0;32m~/Library/Mobile Documents/com~apple~CloudDocs/Documents/regexfinder/regexfinder.py\u001b[0m in \u001b[0;36m<module>\u001b[0;34m\u001b[0m\n\u001b[1;32m      2\u001b[0m \u001b[0;32mimport\u001b[0m \u001b[0mnumpy\u001b[0m \u001b[0;32mas\u001b[0m \u001b[0mnp\u001b[0m\u001b[0;34m\u001b[0m\u001b[0;34m\u001b[0m\u001b[0m\n\u001b[1;32m      3\u001b[0m \u001b[0;32mimport\u001b[0m \u001b[0mpandas\u001b[0m \u001b[0;32mas\u001b[0m \u001b[0mpd\u001b[0m\u001b[0;34m\u001b[0m\u001b[0;34m\u001b[0m\u001b[0m\n\u001b[0;32m----> 4\u001b[0;31m \u001b[0;32mfrom\u001b[0m \u001b[0mgraphviz\u001b[0m \u001b[0;32mimport\u001b[0m \u001b[0mDigraph\u001b[0m\u001b[0;34m\u001b[0m\u001b[0;34m\u001b[0m\u001b[0m\n\u001b[0m\u001b[1;32m      5\u001b[0m \u001b[0;32mfrom\u001b[0m \u001b[0mitertools\u001b[0m \u001b[0;32mimport\u001b[0m \u001b[0mcombinations\u001b[0m\u001b[0;34m\u001b[0m\u001b[0;34m\u001b[0m\u001b[0m\n\u001b[1;32m      6\u001b[0m \u001b[0;32mimport\u001b[0m \u001b[0mmore_itertools\u001b[0m \u001b[0;32mas\u001b[0m \u001b[0mmit\u001b[0m\u001b[0;34m\u001b[0m\u001b[0;34m\u001b[0m\u001b[0m\n",
      "\u001b[0;31mModuleNotFoundError\u001b[0m: No module named 'graphviz'"
     ]
    }
   ],
   "source": [
    "from regexfinder import *\n",
    "from utils import *"
   ]
  },
  {
   "cell_type": "code",
   "execution_count": 32,
   "id": "8252b39b",
   "metadata": {
    "tags": []
   },
   "outputs": [],
   "source": [
    "# For the following graph notice that there are two '\\d{2}', so if you want to\n",
    "# merge one of them you should specify by edge\n",
    "# regex = 'q([abcdefg]{2}[as]|\\d{2})[ab]{2}([cd]{2}|[rs]{2}[vw])#{2}[xyz]x[@#$]\\dx([abc]{3}|\\w{2}\\d{2}\\w{3})z'\n",
    "# regex = '\\d{2}([ab]{2}[cd]{2}|[rs]{2}[vw]{2})[xyz]#[@#$]\\dx([abc]{3}|\\w{2}\\d{2}\\w{3})z'\n",
    "# regex = '\\d{2}([a-m]{2}[n-z]{2}|[A-Z]{4})\\d#[vw]{2}[xyz][@#$]\\dx([abc]{3}|\\w{2}\\d{2}\\w{3})z'\n",
    "# regex = 'a|b'\n",
    "# regex = '\\d{3}'\n",
    "# regex = '[a12\\w]{5}@\\w{5}.(co{2}m{3}|org|edu)'\n",
    "# regex = 'abc'\n",
    "# regex = '\\d(a(c|d{2}|e{3})|(r{2}|\\d)v)[yz]'\n",
    "# regex = '\\\\d(a(d{2}|c|e{3})|(r{2}|\\\\d)v)[yz]'\n",
    "regex = 'a(b(c(d|e{4}f{5}|g)h{2}i|j)k)(lm|n)'\n",
    "# regex = '(abcd)'\n",
    "\n",
    "# We create a GRAPH object with the regex and then simplify it to NODES,\n",
    "# which we then visualize as a graph\n",
    "# A NODE is a class in the module\n",
    "\n",
    "G = GRAPH(regex=regex)\n",
    "G.partition()\n",
    "\n",
    "# Comment if visual is not needed\n",
    "G.createVisual(labels=True)\n",
    "# G.nodes\n"
   ]
  },
  {
   "cell_type": "code",
   "execution_count": 35,
   "id": "a586e351",
   "metadata": {},
   "outputs": [
    {
     "name": "stdout",
     "output_type": "stream",
     "text": [
      "36.0\n"
     ]
    },
    {
     "ename": "TypeError",
     "evalue": "'NoneType' object is not iterable",
     "output_type": "error",
     "traceback": [
      "\u001b[0;31m---------------------------------------------------------------------------\u001b[0m",
      "\u001b[0;31mTypeError\u001b[0m                                 Traceback (most recent call last)",
      "\u001b[1;32m/Users/vladimir/Documents/GitHub/regexfinder/example.ipynb Cell 5\u001b[0m in \u001b[0;36m<cell line: 2>\u001b[0;34m()\u001b[0m\n\u001b[1;32m      <a href='vscode-notebook-cell:/Users/vladimir/Documents/GitHub/regexfinder/example.ipynb#W4sZmlsZQ%3D%3D?line=0'>1</a>\u001b[0m \u001b[39mprint\u001b[39m(G\u001b[39m.\u001b[39mphi)\n\u001b[0;32m----> <a href='vscode-notebook-cell:/Users/vladimir/Documents/GitHub/regexfinder/example.ipynb#W4sZmlsZQ%3D%3D?line=1'>2</a>\u001b[0m G\u001b[39m.\u001b[39;49mreducePhi(\u001b[39m4\u001b[39;49m)\n\u001b[1;32m      <a href='vscode-notebook-cell:/Users/vladimir/Documents/GitHub/regexfinder/example.ipynb#W4sZmlsZQ%3D%3D?line=2'>3</a>\u001b[0m \u001b[39mprint\u001b[39m(G\u001b[39m.\u001b[39mphi)\n",
      "File \u001b[0;32m~/Documents/GitHub/regexfinder/regexfinder.py:1439\u001b[0m, in \u001b[0;36mGRAPH.reducePhi\u001b[0;34m(self, k)\u001b[0m\n\u001b[1;32m   1436\u001b[0m \u001b[39m# Gcopy.parallelGraphs = self.parallelGraphs\u001b[39;00m\n\u001b[1;32m   1437\u001b[0m \u001b[39m# Gcopy.sequentialGraphs = self.sequentialGraphs\u001b[39;00m\n\u001b[1;32m   1438\u001b[0m phi1 \u001b[39m=\u001b[39m Gcopy\u001b[39m.\u001b[39mphi\n\u001b[0;32m-> 1439\u001b[0m Gcopy\u001b[39m.\u001b[39;49mmergeNodeIds(nodeSet)\n\u001b[1;32m   1440\u001b[0m phi2 \u001b[39m=\u001b[39m Gcopy\u001b[39m.\u001b[39mphi\n\u001b[1;32m   1441\u001b[0m \u001b[39mif\u001b[39;00m phi2 \u001b[39m<\u001b[39m phi1:\n",
      "File \u001b[0;32m~/Documents/GitHub/regexfinder/regexfinder.py:1318\u001b[0m, in \u001b[0;36mGRAPH.mergeNodeIds\u001b[0;34m(self, nodeList)\u001b[0m\n\u001b[1;32m   1315\u001b[0m fullyMergedNodeInstructions \u001b[39m=\u001b[39m nodeIdGraph\u001b[39m.\u001b[39mmergeToNodeRecursive()\n\u001b[1;32m   1317\u001b[0m \u001b[39mfor\u001b[39;00m nodeTuple \u001b[39min\u001b[39;00m fullyMergedNodeInstructions:\n\u001b[0;32m-> 1318\u001b[0m     \u001b[39mself\u001b[39;49m\u001b[39m.\u001b[39;49mgraphStichIn(nodeTuple[\u001b[39m1\u001b[39;49m], nodeTuple[\u001b[39m2\u001b[39;49m], nodeTuple[\u001b[39m0\u001b[39;49m])\n",
      "File \u001b[0;32m~/Documents/GitHub/regexfinder/regexfinder.py:1212\u001b[0m, in \u001b[0;36mGRAPH.graphStichIn\u001b[0;34m(self, nodeList, nodeRelationship, mergedNode)\u001b[0m\n\u001b[1;32m   1209\u001b[0m     \u001b[39melse\u001b[39;00m:\n\u001b[1;32m   1210\u001b[0m         \u001b[39mself\u001b[39m\u001b[39m.\u001b[39mparallelPartition()\n\u001b[0;32m-> 1212\u001b[0m     \u001b[39mself\u001b[39;49m\u001b[39m.\u001b[39;49mpartition()\n\u001b[1;32m   1213\u001b[0m \u001b[39melse\u001b[39;00m:\n\u001b[1;32m   1214\u001b[0m     \u001b[39mraise\u001b[39;00m \u001b[39mException\u001b[39;00m(\u001b[39m\"\u001b[39m\u001b[39mThe mergedNode is not a node, check merging\u001b[39m\u001b[39m\"\u001b[39m)\n",
      "File \u001b[0;32m~/Documents/GitHub/regexfinder/regexfinder.py:1466\u001b[0m, in \u001b[0;36mGRAPH.partition\u001b[0;34m(self)\u001b[0m\n\u001b[1;32m   1464\u001b[0m \u001b[39melse\u001b[39;00m:\n\u001b[1;32m   1465\u001b[0m     \u001b[39mself\u001b[39m\u001b[39m.\u001b[39msequentialPartition()\n\u001b[0;32m-> 1466\u001b[0m     [g\u001b[39m.\u001b[39mpartition() \u001b[39mfor\u001b[39;00m g \u001b[39min\u001b[39;00m \u001b[39mself\u001b[39m\u001b[39m.\u001b[39msequentialGraphs]\n",
      "File \u001b[0;32m~/Documents/GitHub/regexfinder/regexfinder.py:1466\u001b[0m, in \u001b[0;36m<listcomp>\u001b[0;34m(.0)\u001b[0m\n\u001b[1;32m   1464\u001b[0m \u001b[39melse\u001b[39;00m:\n\u001b[1;32m   1465\u001b[0m     \u001b[39mself\u001b[39m\u001b[39m.\u001b[39msequentialPartition()\n\u001b[0;32m-> 1466\u001b[0m     [g\u001b[39m.\u001b[39;49mpartition() \u001b[39mfor\u001b[39;00m g \u001b[39min\u001b[39;00m \u001b[39mself\u001b[39m\u001b[39m.\u001b[39msequentialGraphs]\n",
      "File \u001b[0;32m~/Documents/GitHub/regexfinder/regexfinder.py:1466\u001b[0m, in \u001b[0;36mGRAPH.partition\u001b[0;34m(self)\u001b[0m\n\u001b[1;32m   1464\u001b[0m \u001b[39melse\u001b[39;00m:\n\u001b[1;32m   1465\u001b[0m     \u001b[39mself\u001b[39m\u001b[39m.\u001b[39msequentialPartition()\n\u001b[0;32m-> 1466\u001b[0m     [g\u001b[39m.\u001b[39mpartition() \u001b[39mfor\u001b[39;00m g \u001b[39min\u001b[39;00m \u001b[39mself\u001b[39m\u001b[39m.\u001b[39msequentialGraphs]\n",
      "\u001b[0;31mTypeError\u001b[0m: 'NoneType' object is not iterable"
     ]
    }
   ],
   "source": [
    "print(G.phi)\n",
    "G.reducePhi(4)\n",
    "print(G.phi)"
   ]
  },
  {
   "cell_type": "code",
   "execution_count": 22,
   "id": "bebf6cc5",
   "metadata": {},
   "outputs": [
    {
     "name": "stdout",
     "output_type": "stream",
     "text": [
      "abjcde{4}f{5}gh{2}iklmn\n"
     ]
    }
   ],
   "source": [
    "l = G.getNodeObjectsOrdered()\n",
    "s = \"\"\n",
    "for node in l:\n",
    "    s+=node.regex\n",
    "print(s)"
   ]
  },
  {
   "cell_type": "code",
   "execution_count": 23,
   "id": "263c4f59",
   "metadata": {},
   "outputs": [
    {
     "name": "stdout",
     "output_type": "stream",
     "text": [
      "['1', '4', '10', '13']\n",
      "['4', '10', '13', '16']\n",
      "['10', '13', '16', '21']\n",
      "['13', '16', '21', '22']\n",
      "['16', '21', '22', '18']\n",
      "['21', '22', '18', '19']\n",
      "['22', '18', '19', '20']\n",
      "['18', '19', '20', '6']\n",
      "['19', '20', '6', '11']\n",
      "['20', '6', '11', '12']\n",
      "['6', '11', '12', '8']\n"
     ]
    }
   ],
   "source": [
    "l = G.getNodeSubsets(4)\n",
    "for list in l:\n",
    "    print(list)"
   ]
  },
  {
   "cell_type": "code",
   "execution_count": 50,
   "id": "370db636",
   "metadata": {},
   "outputs": [],
   "source": [
    "G.mergeNodeIds(nodeList=['381', '388', '395', '396'])\n",
    "G.createVisual(labels=True)"
   ]
  },
  {
   "cell_type": "code",
   "execution_count": 27,
   "id": "06346f90",
   "metadata": {},
   "outputs": [
    {
     "name": "stdout",
     "output_type": "stream",
     "text": [
      "None\n"
     ]
    }
   ],
   "source": [
    "n1 = G.nodes['177']\n",
    "print(n1.getQuantifier)"
   ]
  },
  {
   "cell_type": "code",
   "execution_count": 7,
   "id": "632a5280",
   "metadata": {},
   "outputs": [
    {
     "name": "stdout",
     "output_type": "stream",
     "text": [
      "q\n",
      "[ab]{2}\n",
      "z\n",
      "\\d{2}\n",
      "[cd]{2}\n",
      "#{2}\n",
      "[xyz]\n",
      "x\n",
      "[@#$]\n",
      "\\d\n",
      "x\n",
      "[abc]{3}\n",
      "[abcdefg]{2}\n",
      "[as]\n",
      "[rs]{2}\n",
      "[vw]\n",
      "\\w{2}\n",
      "\\d{2}\n",
      "\\w{3}\n"
     ]
    }
   ],
   "source": [
    "for node in G.nodes.values():\n",
    "    print(node.regex)"
   ]
  },
  {
   "cell_type": "code",
   "execution_count": 9,
   "id": "d1dbc39b",
   "metadata": {},
   "outputs": [
    {
     "data": {
      "text/plain": [
       "'q(\\\\d{2}|[abcdefg]{2}[as])[ab]{2}([cd]{2}|[rs]{2}[vw])#{2}[xyz]x[@#$]\\\\dx([abc]{3}|[\\\\w]{7})z'"
      ]
     },
     "execution_count": 9,
     "metadata": {},
     "output_type": "execute_result"
    }
   ],
   "source": [
    "nodeIds1 = []\n",
    "# for key in G.nodes:\n",
    "#     # print(key + \", \" + G.nodes[key].regex)\n",
    "#     # Notice the double backslash here, need to figure out when necesarry\n",
    "#     if G.nodes[key].regex == '\\\\w{2}' or G.nodes[key].regex == '\\\\d{2}' or G.nodes[key].regex == '\\\\w{3}':\n",
    "#         nodeIds1.append(key)\n",
    "# G.mergeNodeIds(nodeIds1)\n",
    "\n",
    "for edge in G.edges:\n",
    "    if G.nodes[edge.parent].regex == '\\\\w{2}' or (G.nodes[edge.parent].regex == '\\\\d{2}' and G.nodes[edge.child].regex == '\\\\w{3}') or G.nodes[edge.parent].regex == '\\\\w{3}':\n",
    "        nodeIds1.append(edge.parent)\n",
    "G.mergeNodeIds(nodeIds1)\n",
    "        \n",
    "\n",
    "G.createVisual()\n",
    "G.outRegex"
   ]
  },
  {
   "cell_type": "code",
   "execution_count": 79,
   "id": "f2759443",
   "metadata": {},
   "outputs": [],
   "source": [
    "n1 = NODE('a')\n",
    "n2 = NODE('b{2}')\n",
    "n3 = NODE('c{5,6}')\n",
    "e12 = EDGE(n1.id_, n2.id_)\n",
    "e23 = EDGE(n2.id_, n3.id_)\n",
    "edgeList = [e12, e23]\n",
    "nodeDict = dict([(n.id_, n) for n in [n1, n2, n3]])\n",
    "G = GRAPH(nodes=nodeDict, edges=edgeList)\n",
    "G.simplify()\n",
    "G.partition()\n",
    "# G.createVisual()\n",
    "\n",
    "\n",
    "n4 = NODE('d')\n",
    "e34 = EDGE(n3.id_, n4.id_)\n",
    "e34List = [e34]\n",
    "G.addNode(n4, e34List)\n",
    "G.simplify()\n",
    "\n",
    "G.createVisual()\n"
   ]
  },
  {
   "cell_type": "code",
   "execution_count": 81,
   "id": "feb2fe92",
   "metadata": {},
   "outputs": [],
   "source": [
    "n1 = NODE('[a1]')\n",
    "n2 = NODE('[b2]')\n",
    "n3 = NODE('[c3]')\n",
    "n4 = NODE('[d4]')\n",
    "n5 = NODE('[e5]')\n",
    "n6 = NODE('[f6]')\n",
    "n7 = NODE('[g7]')\n",
    "n8 = NODE('[h8]')\n",
    "\n",
    "e12 = EDGE(n1.id_, n2.id_)\n",
    "e23 = EDGE(n2.id_, n3.id_)\n",
    "e24 = EDGE(n2.id_, n4.id_)\n",
    "e45 = EDGE(n4.id_, n5.id_)\n",
    "e46 = EDGE(n4.id_, n6.id_)\n",
    "e57 = EDGE(n5.id_, n7.id_)\n",
    "e67 = EDGE(n6.id_, n7.id_)\n",
    "e37 = EDGE(n3.id_, n8.id_)\n",
    "e78 = EDGE(n7.id_, n8.id_)\n",
    "\n",
    "edgeList = [e12, e23, e24, e45, e46, e37, e57, e67, e78]\n",
    "nodeDict = dict([(n.id_, n) for n in [n1, n2, n3, n4, n5, n6, n7, n8]])\n",
    "G = GRAPH(nodes=nodeDict, edges=edgeList)\n",
    "G.simplify()\n",
    "# G.createVisual()\n",
    "\n",
    "G.mergeNodeIds([n1.id_, n2.id_, n3.id_, n4.id_, n5.id_, n6.id_, n7.id_, n8.id_])\n",
    "G.createVisual()\n"
   ]
  },
  {
   "cell_type": "code",
   "execution_count": 14,
   "id": "6083aec4",
   "metadata": {},
   "outputs": [
    {
     "ename": "KeyError",
     "evalue": "'79'",
     "output_type": "error",
     "traceback": [
      "\u001b[0;31m---------------------------------------------------------------------------\u001b[0m",
      "\u001b[0;31mKeyError\u001b[0m                                  Traceback (most recent call last)",
      "\u001b[1;32m/Users/vladimir/Documents/GitHub/regexfinder/example.ipynb Cell 10\u001b[0m in \u001b[0;36m<cell line: 1>\u001b[0;34m()\u001b[0m\n\u001b[0;32m----> <a href='vscode-notebook-cell:/Users/vladimir/Documents/GitHub/regexfinder/example.ipynb#X11sZmlsZQ%3D%3D?line=0'>1</a>\u001b[0m NG \u001b[39m=\u001b[39m G\u001b[39m.\u001b[39;49mmergeNodeIds([n4\u001b[39m.\u001b[39;49mid_, n5\u001b[39m.\u001b[39;49mid_, n6\u001b[39m.\u001b[39;49mid_, n7\u001b[39m.\u001b[39;49mid_])\n\u001b[1;32m      <a href='vscode-notebook-cell:/Users/vladimir/Documents/GitHub/regexfinder/example.ipynb#X11sZmlsZQ%3D%3D?line=1'>2</a>\u001b[0m NG\u001b[39m.\u001b[39mcreateVisual()\n",
      "File \u001b[0;32m~/Documents/GitHub/regexfinder/regexfinder.py:1080\u001b[0m, in \u001b[0;36mGRAPH.mergeNodeIds\u001b[0;34m(self, nodeList)\u001b[0m\n\u001b[1;32m   1077\u001b[0m \u001b[39mdef\u001b[39;00m \u001b[39mmergeNodeIds\u001b[39m(\u001b[39mself\u001b[39m, nodeList):\n\u001b[1;32m   1078\u001b[0m     \n\u001b[1;32m   1079\u001b[0m     \u001b[39m# A graph made up of only the nodes\u001b[39;00m\n\u001b[0;32m-> 1080\u001b[0m     nodeIdGraph \u001b[39m=\u001b[39m \u001b[39mself\u001b[39;49m\u001b[39m.\u001b[39;49mgetNodeIdListGraph(nodeList)\n\u001b[1;32m   1082\u001b[0m     \u001b[39m# Makes a one node graph of those nodes\u001b[39;00m\n\u001b[1;32m   1083\u001b[0m     fullyMergedNodeInstructions \u001b[39m=\u001b[39m nodeIdGraph\u001b[39m.\u001b[39mmergeToNodeRecursive()\n",
      "File \u001b[0;32m~/Documents/GitHub/regexfinder/regexfinder.py:1007\u001b[0m, in \u001b[0;36mGRAPH.getNodeIdListGraph\u001b[0;34m(self, nodeList)\u001b[0m\n\u001b[1;32m   1004\u001b[0m     \u001b[39mif\u001b[39;00m edge\u001b[39m.\u001b[39mparent \u001b[39min\u001b[39;00m nodeList \u001b[39mand\u001b[39;00m edge\u001b[39m.\u001b[39mchild \u001b[39min\u001b[39;00m nodeList:\n\u001b[1;32m   1005\u001b[0m         necessaryEdges\u001b[39m.\u001b[39mappend(edge)\n\u001b[0;32m-> 1007\u001b[0m nodeDict \u001b[39m=\u001b[39m \u001b[39mdict\u001b[39m([(n, \u001b[39mself\u001b[39m\u001b[39m.\u001b[39mnodes[n]) \u001b[39mfor\u001b[39;00m n \u001b[39min\u001b[39;00m nodeList])\n\u001b[1;32m   1009\u001b[0m nodeListGraph \u001b[39m=\u001b[39m GRAPH(nodes\u001b[39m=\u001b[39mnodeDict, edges\u001b[39m=\u001b[39mnecessaryEdges)\n\u001b[1;32m   1011\u001b[0m \u001b[39mreturn\u001b[39;00m nodeListGraph\n",
      "File \u001b[0;32m~/Documents/GitHub/regexfinder/regexfinder.py:1007\u001b[0m, in \u001b[0;36m<listcomp>\u001b[0;34m(.0)\u001b[0m\n\u001b[1;32m   1004\u001b[0m     \u001b[39mif\u001b[39;00m edge\u001b[39m.\u001b[39mparent \u001b[39min\u001b[39;00m nodeList \u001b[39mand\u001b[39;00m edge\u001b[39m.\u001b[39mchild \u001b[39min\u001b[39;00m nodeList:\n\u001b[1;32m   1005\u001b[0m         necessaryEdges\u001b[39m.\u001b[39mappend(edge)\n\u001b[0;32m-> 1007\u001b[0m nodeDict \u001b[39m=\u001b[39m \u001b[39mdict\u001b[39m([(n, \u001b[39mself\u001b[39;49m\u001b[39m.\u001b[39;49mnodes[n]) \u001b[39mfor\u001b[39;00m n \u001b[39min\u001b[39;00m nodeList])\n\u001b[1;32m   1009\u001b[0m nodeListGraph \u001b[39m=\u001b[39m GRAPH(nodes\u001b[39m=\u001b[39mnodeDict, edges\u001b[39m=\u001b[39mnecessaryEdges)\n\u001b[1;32m   1011\u001b[0m \u001b[39mreturn\u001b[39;00m nodeListGraph\n",
      "\u001b[0;31mKeyError\u001b[0m: '79'"
     ]
    }
   ],
   "source": [
    "NG = G.mergeNodeIds([n4.id_, n5.id_, n6.id_, n7.id_])\n",
    "NG.createVisual()"
   ]
  },
  {
   "cell_type": "code",
   "execution_count": 19,
   "id": "e947a497",
   "metadata": {},
   "outputs": [],
   "source": [
    "n1 = NODE('a')\n",
    "n2 = NODE('b{2}')\n",
    "n3 = NODE('c{3}')\n",
    "n4 = NODE('d')\n",
    "nodeDict = dict([(n.id_, n) for n in [n1, n2, n3, n4]])\n",
    "e = [EDGE(n1.id_, n2.id_), EDGE(n1.id_, n3.id_), \n",
    "        EDGE(n2.id_, n4.id_), EDGE(n3.id_, n4.id_)]\n",
    "\n",
    "g1 = GRAPH(nodes=nodeDict, edges=e)\n",
    "g1.partition()\n",
    "g1.createVisual()\n"
   ]
  },
  {
   "cell_type": "code",
   "execution_count": null,
   "id": "d3c10d2d",
   "metadata": {},
   "outputs": [],
   "source": []
  },
  {
   "cell_type": "code",
   "execution_count": 75,
   "id": "c9292b34",
   "metadata": {},
   "outputs": [],
   "source": [
    "n1 = NODE('a')\n",
    "n2 = NODE('b')\n",
    "n3 = NODE('c')\n",
    "n4 = NODE('d')\n",
    "n5 = NODE('e')\n",
    "n6 = NODE('f')\n",
    "n7 = NODE('g')\n",
    "n8 = NODE('h')\n",
    "\n",
    "e12 = EDGE(n1.id_, n2.id_)\n",
    "e23 = EDGE(n2.id_, n3.id_)\n",
    "e24 = EDGE(n2.id_, n4.id_)\n",
    "e45 = EDGE(n4.id_, n5.id_)\n",
    "e46 = EDGE(n4.id_, n6.id_)\n",
    "e37 = EDGE(n3.id_, n7.id_)\n",
    "e78 = EDGE(n7.id_, n8.id_)\n",
    "\n",
    "edgeList = [e12, e23, e24, e45, e46, e37, e78]\n",
    "nodeDict = dict([(n.id_, n) for n in [n1, n2, n3, n4, n5, n6, n7, n8]])\n",
    "G = GRAPH(nodes=nodeDict, edges=edgeList)\n",
    "G.partition()\n",
    "G.createVisual()"
   ]
  },
  {
   "cell_type": "code",
   "execution_count": 76,
   "id": "0f0ab105",
   "metadata": {},
   "outputs": [],
   "source": [
    "G.mergeNodes([n1, n2, n3, n4, n5, n6, n7, n8])\n",
    "G.createVisual()"
   ]
  },
  {
   "cell_type": "code",
   "execution_count": 86,
   "id": "a8adb804",
   "metadata": {},
   "outputs": [
    {
     "name": "stdout",
     "output_type": "stream",
     "text": [
      "[abcdef]\n",
      "[a-f]\n"
     ]
    }
   ],
   "source": [
    "n1 = NODE(regex='[abcdef]')\n",
    "print(n1.regex)\n",
    "n1.reduce()\n",
    "print(n1.regex)"
   ]
  }
 ],
 "metadata": {
  "kernelspec": {
   "display_name": "Python 3 (ipykernel)",
   "language": "python",
   "name": "python3"
  },
  "language_info": {
   "codemirror_mode": {
    "name": "ipython",
    "version": 3
   },
   "file_extension": ".py",
   "mimetype": "text/x-python",
   "name": "python",
   "nbconvert_exporter": "python",
   "pygments_lexer": "ipython3",
   "version": "3.9.12"
  },
  "vscode": {
   "interpreter": {
    "hash": "26c5592925e2c5b411a3cc46924e9998e580f04b048084bfd128e4c36bd199e6"
   }
  }
 },
 "nbformat": 4,
 "nbformat_minor": 5
}
